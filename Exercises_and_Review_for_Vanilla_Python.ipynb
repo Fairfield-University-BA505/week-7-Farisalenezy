{
 "cells": [
  {
   "cell_type": "markdown",
   "metadata": {},
   "source": [
    "# Python Review & Exercises\n",
    "\n",
    "These exercise questions are developed to help you review concepts and skills we covered in the first half of the class, where we prepare you to get started with following topics:\n",
    "\n",
    "- Variables, Statements, Expressions\n",
    "- Operators and Calculations\n",
    "- If statements\n",
    "- Function definitions and calls\n",
    "- Iterations (at least for loops)\n",
    "- strings\n",
    "- lists\n",
    "- dictionaries\n",
    "\n",
    "Remember that following questions require __more than one topics__ from above."
   ]
  },
  {
   "cell_type": "markdown",
   "metadata": {},
   "source": [
    "## Ground Rules\n",
    "\n",
    "Below rules define how this works:\n",
    "\n",
    "1. Please complete these questions in class, and if needed, after class, no later than __10/27__. You should submit the completed notebook back via Github Classroom.\n",
    "2. This is neither an exam nor an assignment - I will __NOT__ grade these. This is for you to test whether you are ready to move onto the next part of the class.\n",
    "3. Please __work with your peers__. You can learn much more if you work actively with your peers, by teaching each other. If you have not started doing so, this may be the perfect opportunity.\n",
    "4. Be __active__ in this class. I want to hear your opinions/soluions to problems below. So please speak up! This is a fair learning environment.\n",
    "5. Do __not__ try to copy code from others, include the Internet. The purpose is not to complete these questions, rather to test where your strengths and weaknesses are. Do not __fake__ it!\n",
    "\n",
    "Okay, rules are clear, let's start!"
   ]
  },
  {
   "cell_type": "markdown",
   "metadata": {},
   "source": [
    "## Q1. Code Explanation Problem\n",
    "\n",
    "#### Common Characters between Two Strings\n",
    "\n",
    "I was asked to develop a function (`common_char()`) to find out what common charaters are shared between two strings. I have provided two solutions to the problem. \n",
    "\n",
    "1. In solution 1 use a _one-liner_ for loop to solve the problem. Please write out the function in multiple lines (the regular for loop with an if statement) to make sure you understand how this works;\n",
    "2. In solution 2 I used something you have never seen in this class (__python sets__). In real world you may come across codes that you have never seen. Use Google to help you understand how _sets_ work in Python (__python sets__ might be a good search term for starters). Write you understanding in comments."
   ]
  },
  {
   "cell_type": "code",
   "execution_count": 1,
   "metadata": {
    "collapsed": false
   },
   "outputs": [
    {
     "data": {
      "text/plain": [
       "['a', 'b']"
      ]
     },
     "execution_count": 1,
     "metadata": {},
     "output_type": "execute_result"
    }
   ],
   "source": [
    "s1 = 'abc'\n",
    "s2 = 'bad'\n",
    "\n",
    "# solution 1\n",
    "def common_char1(s1, s2):\n",
    "    return [c1 for c1 in s1 if c1 in s2]\n",
    "    \n",
    "common_char1(s1, s2)"
   ]
  },
  {
   "cell_type": "code",
   "execution_count": 39,
   "metadata": {},
   "outputs": [
    {
     "data": {
      "text/plain": [
       "['b', 'a']"
      ]
     },
     "execution_count": 39,
     "metadata": {},
     "output_type": "execute_result"
    }
   ],
   "source": [
    "s1 = 'abc'\n",
    "s2 = 'bad'\n",
    "s4= \"nawaf\"\n",
    "s5=\"abcd\"\n",
    "s6 =\"abs\"\n",
    "def common_char(x,y):\n",
    "    res_1st=[] # make an empty list\n",
    "    for c in y: # we use a loop to go throuh s1 char by char\n",
    "        if c in x: #look for a match btween s1 & s2\n",
    "            res_1st.append(c)# we take the result to our empty list and put the matching char in it \n",
    "        else:\n",
    "             pass\n",
    "    return(res_1st) # we return the result\n",
    "        \n",
    "common_char(s1,s2)\n",
    "    "
   ]
  },
  {
   "cell_type": "code",
   "execution_count": null,
   "metadata": {},
   "outputs": [],
   "source": []
  },
  {
   "cell_type": "code",
   "execution_count": 2,
   "metadata": {
    "collapsed": false
   },
   "outputs": [
    {
     "data": {
      "text/plain": [
       "['a', 'b']"
      ]
     },
     "execution_count": 2,
     "metadata": {},
     "output_type": "execute_result"
    }
   ],
   "source": [
    "def common_char2(s1, s2):\n",
    "    return list(set(s1) & set(s2))\n",
    "\n",
    "common_char2(s1, s2)"
   ]
  },
  {
   "cell_type": "markdown",
   "metadata": {},
   "source": [
    "## Q2. Coding Problem\n",
    "\n",
    "Given any list of integers, write a function (`sort_even()`) to sort any even numbers in a sub-list, leave all odd numbers unsorted in another sub-list.\n",
    "\n",
    "#### Example:\n",
    "- sort_even([4, 3, 2, 1, 6]) --> [[2, 4, 6], [3, 1]]\n",
    "- sort_even([4, 2]) --> [[2, 4], []]\n",
    "- sort_even([3, 1] --> [[], [3, 1]]\n",
    "- sort_even([]) --> []\n",
    "\n",
    "#### HINTS:\n",
    "\n",
    "- Clearly we want to treat odd and even numbers separately - maybe two lists to hold the two parts?\n",
    "- You may want to go through the list using a loop."
   ]
  },
  {
   "cell_type": "code",
   "execution_count": 108,
   "metadata": {},
   "outputs": [],
   "source": [
    "def sort_even(x): #define the function\n",
    "    odd_1st=[] # make an empty list for odd numbers\n",
    "    even_1st=[]# make an empty list for even numbers\n",
    "    fin_list=[]# make an empty list for the final output\n",
    "    \n",
    "    for i in x : # a loop to go through the list and test if it odd or even\n",
    "        if i % 2 == 0: #if even we append it in the even list\n",
    "            even_1st.append(i) \n",
    "        \n",
    "        else: #if odd we append it in the odd list\n",
    "            odd_1st.append(i) \n",
    "    even_1st.sort() # we sort the even list\n",
    "    fin_list = [even_1st,odd_1st] # add both the odd and even list inside the fin_list\n",
    "    return(fin_list)\n"
   ]
  },
  {
   "cell_type": "code",
   "execution_count": 109,
   "metadata": {},
   "outputs": [
    {
     "data": {
      "text/plain": [
       "[[2, 4, 6, 8], [1, 7, 9, 13]]"
      ]
     },
     "execution_count": 109,
     "metadata": {},
     "output_type": "execute_result"
    }
   ],
   "source": [
    "sort_even([1,2,4,6,7,8,9,13])"
   ]
  },
  {
   "cell_type": "markdown",
   "metadata": {},
   "source": [
    "## Q3. Coding Problem\n",
    "\n",
    "Given a list of integers, write a function(`pair_func()`) that pairs the first number in an array with the last, the second number with the second to last, etc.\n",
    "\n",
    "#### HINTS: \n",
    "- If the list has an __odd length__, __repeat__ the middle element twice for the last pair.\n",
    "- Return an empty list if the input is an empty list.\n",
    "- Note that the result is a list of lists - so the returned `result_lst` should contain sub lists called `pairs`.\n",
    "\n",
    "#### Examples:\n",
    "- pair_func([1, 2, 3, 4, 5, 6, 7]) ➞ [[1, 7], [2, 6], [3, 5], [4, 4]]\n",
    "- pair_func([1, 2, 3, 4, 5, 6]) ➞ [[1, 6], [2, 5], [3, 4]]\n",
    "- pair_func([5, 9, 8, 1, 2]) ➞ [[5, 2], [9, 1], [8, 8]]\n",
    "- pair_func([]) ➞ []"
   ]
  },
  {
   "cell_type": "code",
   "execution_count": 99,
   "metadata": {},
   "outputs": [],
   "source": [
    "def pair_func(x) : #define the founction to take 1 argoument\n",
    "    str_out=[] # make an empty list\n",
    "\n",
    "    for i in range (int(len(x)/2 + 0.5)): # i still don't get this!\n",
    "    \n",
    "        str_out += [ [x[i] ,x[-(i+1)]] ]\n",
    "    return(str_out)"
   ]
  },
  {
   "cell_type": "code",
   "execution_count": 100,
   "metadata": {},
   "outputs": [
    {
     "data": {
      "text/plain": [
       "[[1, 7], [2, 6], [3, 5], [4, 4]]"
      ]
     },
     "execution_count": 100,
     "metadata": {},
     "output_type": "execute_result"
    }
   ],
   "source": [
    "pair_func([1, 2, 3, 4, 5, 6, 7])"
   ]
  },
  {
   "cell_type": "markdown",
   "metadata": {},
   "source": [
    "## Q4. Coding Problem\n",
    "\n",
    "You work for a manufacturer, and have been asked to write a function (`profit_calc`) to calculate the _total profit_ made on the sales of a product.\n",
    "\n",
    "- You need to create a dictionary containing the cost price per unit (in dollars), sell price per unit (in dollars), and the starting inventory. The values in the dictionary should be __user inputs__.\n",
    "\n",
    "- Return the total profit made, rounded to the _nearest cent_ (2 digits after the decimal point). Assume __all of the inventory has been sold__.\n",
    "\n",
    "- Please insert the result from the function back to the original dictionary, use the key as `'profit'`.\n",
    "\n",
    "#### Example Dictionary:\n",
    "```python\n",
    "prod_dict = {\n",
    "  \"cost_price\": 32.67,\n",
    "  \"sell_price\": 45.00,\n",
    "  \"inventory\": 1200\n",
    "}\n",
    "```\n",
    "\n",
    "\n",
    "#### Example Output:\n",
    "```python\n",
    "# profit_calc(prod_dict) =  14796\n",
    "\n",
    "prod_dict = {\n",
    "  \"cost_price\": 32.67,\n",
    "  \"sell_price\": 45.00,\n",
    "  \"inventory\": 1200,\n",
    "  \"profit\": 14796\n",
    "}\n",
    "```\n",
    "\n",
    "#### HINT: \n",
    "$profit = (v2 - v1) \\times v3$"
   ]
  },
  {
   "cell_type": "code",
   "execution_count": 49,
   "metadata": {},
   "outputs": [],
   "source": [
    "def profit_calc() : # define the function\n",
    "    try:\n",
    "        \n",
    "        prod_dict = {} # make a empty dict\n",
    "        \n",
    "        cost_price = float(input(\"Give the cost price of the product you want to add: \")) # take user input for the csot price of a pruduct\n",
    "        sell_price = round(float(input(\"Give the sell price of the prduct: \")),3) #take the sell price of the product\n",
    "        inventory =int(input(\"Give the number of unites in the inventory: \")) # take the number of units in  inventory\n",
    "        profit = round((sell_price - cost_price)* inventory,2) # calc the profit and round the result\n",
    "    \n",
    "        # add the user inputs in the dict and also our calc for porfit\n",
    "        prod_dict = {\"cost_price\": cost_price,\"sell_price\": sell_price,\"inventory\": inventory,\"profit\": profit} \n",
    "            \n",
    "    except: # check if the user put letters in either the product price and units sold\n",
    "        print(\"Please use numbers for the price of the product and the unite sold\")\n",
    "    print(\"prod_dict =\",prod_dict) # print the dicts\n",
    "\n"
   ]
  },
  {
   "cell_type": "code",
   "execution_count": 50,
   "metadata": {},
   "outputs": [
    {
     "name": "stdin",
     "output_type": "stream",
     "text": [
      "Give the cost price of the product you want to add:  32.67\n",
      "Give the sell price of the prduct:  45.00\n",
      "Give the number of unites in the inventory:  1200\n"
     ]
    },
    {
     "name": "stdout",
     "output_type": "stream",
     "text": [
      "prod_dict = {'cost_price': 32.67, 'sell_price': 45.0, 'inventory': 1200, 'profit': 14796.0}\n"
     ]
    }
   ],
   "source": [
    "profit_calc()"
   ]
  },
  {
   "cell_type": "code",
   "execution_count": 41,
   "metadata": {},
   "outputs": [],
   "source": [
    "prod_dict = {'cost_price': 32.67, 'sell_price': 45.0, 'inventory': 1200,} # the user input \n",
    "t_t={}\n",
    "def prod_calc2(x):# we defin the function and set the arugment \n",
    "    try: # if the user used a dict that has the correct keys we calc the profit\n",
    "        cost_price = x['cost_price'] # take the cost price form the dict\n",
    "        sell_price = x['sell_price'] #take the sell price of the product from the dict\n",
    "        inventory = x['inventory'] # take the number of units from the dict\n",
    "        profit = round( (sell_price - cost_price)* inventory,2) #calc the profit of the product\n",
    "        return  \"%.2f\"% profit # return the value of the profit\n",
    "    except: #if the user didn't used a dict that has the correct keys we print this message\n",
    "        print (\"Please use a dict that has these keys : cost_price, sell_price and inventory \")\n",
    "        "
   ]
  },
  {
   "cell_type": "code",
   "execution_count": 38,
   "metadata": {},
   "outputs": [
    {
     "data": {
      "text/plain": [
       "'14796.00'"
      ]
     },
     "execution_count": 38,
     "metadata": {},
     "output_type": "execute_result"
    }
   ],
   "source": [
    "prod_calc2(prod_dict)"
   ]
  },
  {
   "cell_type": "code",
   "execution_count": 40,
   "metadata": {},
   "outputs": [
    {
     "name": "stdout",
     "output_type": "stream",
     "text": [
      "Please use a dict that has these keys : cost_price, sell_price and inventory \n"
     ]
    }
   ],
   "source": [
    "prod_calc2(t_t)"
   ]
  },
  {
   "cell_type": "markdown",
   "metadata": {},
   "source": [
    "## Q5. Coding Problem\n",
    "\n",
    "You are tasked to write a function (`findall_lst()`) to find __all__ the indexes of the searched item in a list. \n",
    "\n",
    "We know we can use `.find()` method to search a list, but it will only return the __first__ index not __all__ of them.\n",
    "\n",
    "#### Examples: \n",
    "- findall_lst(([\"a\", \"a\", \"b\", \"a\", \"b\", \"a\"], \"a\") ➞ [0, 1, 3, 5]\n",
    "- findall_lst([1, 5, 5, 2, 7], 7) ➞ [4]\n",
    "- findall_lst([1, 5, 5, 2, 7], 8) ➞ []"
   ]
  },
  {
   "cell_type": "code",
   "execution_count": 1,
   "metadata": {
    "collapsed": false
   },
   "outputs": [],
   "source": [
    "# create variables to hold the list for search as `my_lst`\n",
    "# and to hold the element to search as `my_search`\n",
    "my_lst = [1, 5, 5, 2, 7]\n",
    "my_search = []\n"
   ]
  },
  {
   "cell_type": "code",
   "execution_count": 2,
   "metadata": {
    "collapsed": true
   },
   "outputs": [],
   "source": [
    "# since the results are lists\n",
    "# initialize an empty list `search_results` to hold results\n",
    "search_results =[]\n",
    "search_results2 =[]"
   ]
  },
  {
   "cell_type": "code",
   "execution_count": 3,
   "metadata": {
    "collapsed": true
   },
   "outputs": [
    {
     "name": "stdout",
     "output_type": "stream",
     "text": [
      "[4]\n"
     ]
    }
   ],
   "source": [
    "# since we need 'all' of something, we need a loop\n",
    "# iterate through `my_lst` to search for `my_search`\n",
    "# remember to retrive the index(es) from the list\n",
    "# update the `search_results` when you have a hit (found) - you should consider using `.append()`\n",
    "\n",
    "my_search = 7\n",
    "\n",
    "for i in range(len(my_lst)):\n",
    "    if my_lst[i] == my_search:\n",
    "        search_results.append(i) \n",
    "        \n",
    "print(search_results)\n",
    "    "
   ]
  },
  {
   "cell_type": "code",
   "execution_count": 27,
   "metadata": {
    "collapsed": true
   },
   "outputs": [],
   "source": [
    "# Put everything together as a function\n",
    " # define the function and make it take two argouments x = list and y is the element that we want found\n",
    "\n",
    "def findall_lst (x,y):\n",
    "    search_results =[] # make an empty list\n",
    "    for i in range(len(x)): # have a loop go through the list and find the len of i\n",
    "        if x[i] == y: # if len of i if found we update our search_results list \n",
    "            search_results.append(i)  \n",
    "    return search_results\n",
    "\n",
    "    \n"
   ]
  },
  {
   "cell_type": "code",
   "execution_count": 28,
   "metadata": {},
   "outputs": [
    {
     "data": {
      "text/plain": [
       "[4]"
      ]
     },
     "execution_count": 28,
     "metadata": {},
     "output_type": "execute_result"
    }
   ],
   "source": [
    "findall_lst ([1, 5, 5, 2, 7],7)"
   ]
  },
  {
   "cell_type": "code",
   "execution_count": 29,
   "metadata": {},
   "outputs": [
    {
     "data": {
      "text/plain": [
       "[0, 1, 3, 5]"
      ]
     },
     "execution_count": 29,
     "metadata": {},
     "output_type": "execute_result"
    }
   ],
   "source": [
    "findall_lst([\"a\", \"a\", \"b\", \"a\", \"b\", \"a\"], \"a\")"
   ]
  },
  {
   "cell_type": "code",
   "execution_count": 30,
   "metadata": {},
   "outputs": [
    {
     "data": {
      "text/plain": [
       "[]"
      ]
     },
     "execution_count": 30,
     "metadata": {},
     "output_type": "execute_result"
    }
   ],
   "source": [
    "findall_lst([1, 5, 5, 2, 7], 8) "
   ]
  },
  {
   "cell_type": "markdown",
   "metadata": {},
   "source": [
    "## Q6. Coding Problem\n",
    "\n",
    "### The Karaca's Encryption Algorithm:\n",
    "\n",
    "Make a function (`karaca_encoder`) that encrypts a given input with these steps:\n",
    "\n",
    "- Input: `'Apple'` # you should test that all inputs are strings\n",
    "- Step 1: set everything to lowercase and reverse the string `'elppa'`, code snippet below can help with reversing a string:\n",
    "```python\n",
    "s = 'abc'\n",
    "''.join(reversed(s))  # 'cba'\n",
    "```\n",
    "\n",
    "- Step 2: replace all vowels using following table, so the input becomes `'1lpp0'`:\n",
    "\n",
    "| vowel | code |\n",
    "| ----- | ---- |\n",
    "| a | 0 |\n",
    "| e | 1 |\n",
    "| i | 2 |\n",
    "| o | 3 |\n",
    "| u | 4 |\n",
    "\n",
    "\n",
    "- Step 3: add `'aca'` to the end of the string, so the string becomes `'1lpp0aca'`\n",
    "- Voila! Return this string `'1lpp0aca'` as the encoded.\n",
    "\n",
    "#### Examples:\n",
    "- karaca_encoder(\"banana\") ➞ \"0n0n0baca\"\n",
    "- karaca_encoder(\"karaca\") ➞ \"0c0r0kaca\"\n",
    "- karaca_encoder(\"burak\") ➞ \"k0r3baca\"\n",
    "- karaca_encoder(\"alpaca\") ➞ \"0c0pl0aca\""
   ]
  },
  {
   "cell_type": "code",
   "execution_count": 48,
   "metadata": {
    "collapsed": true
   },
   "outputs": [
    {
     "name": "stdout",
     "output_type": "stream",
     "text": [
      "0n0n0baca\n"
     ]
    }
   ],
   "source": [
    "# Write your code here\n",
    "input_str_en = \"banana\"\n",
    "input_str_en =input_str_en.lower()\n",
    "input1=input_str_en[::-1]\n",
    "\n",
    "\n",
    "#print(input1)\n",
    "key_en = {'a':'0', 'e':'1', 'i':'2', 'o':'3', 'u':'4'}\n",
    "output_str = \"\"\n",
    "aca=\"aca\"\n",
    "for c in input1 :\n",
    "    if c in key_en:\n",
    "        output_str += key_en[c]\n",
    "    else :\n",
    "         output_str += c\n",
    "    \n",
    "output_str += aca      \n",
    "print(output_str)\n"
   ]
  },
  {
   "cell_type": "code",
   "execution_count": 93,
   "metadata": {},
   "outputs": [],
   "source": [
    "def karaca_encoder(x): #define the function\n",
    "    input_str_en = x # take the user input \n",
    "    input_str_en =input_str_en.lower() # make the str lower case\n",
    "    input1=input_str_en[::-1] # reverse the string\n",
    "\n",
    "\n",
    "\n",
    "    key_en = {'a':'0', 'e':'1', 'i':'2', 'o':'3', 'u':'4'} # make a dict of the numbers to replace all vowels\n",
    "    output_str = \"\" # define the output\n",
    "    aca=\"aca\" # the result out put must end with \"ace\"\n",
    "    result_output =\"\" # dinfe the result_output\n",
    "    for c in input1 : # the loop takes the user input and match it with the key_en dict and replaces the values\n",
    "        if c in key_en:\n",
    "            output_str += key_en[c] # if the vowels are found we replaces them with values in key dict\n",
    "        else :\n",
    "             output_str += c # if not found we keep the values\n",
    "    \n",
    "    output_str += aca  #add aca to our loop output\n",
    "    result_output = output_str # add everthing togther\n",
    "    print(result_output)\n",
    "    "
   ]
  },
  {
   "cell_type": "code",
   "execution_count": 94,
   "metadata": {},
   "outputs": [
    {
     "name": "stdout",
     "output_type": "stream",
     "text": [
      "0n0n0baca\n",
      "0c0r0kaca\n",
      "k0r4baca\n",
      "0c0pl0aca\n"
     ]
    }
   ],
   "source": [
    "karaca_encoder(\"banana\")\n",
    "karaca_encoder(\"karaca\")\n",
    "karaca_encoder(\"burak\")\n",
    "karaca_encoder(\"alpaca\")\n"
   ]
  },
  {
   "cell_type": "code",
   "execution_count": 81,
   "metadata": {},
   "outputs": [
    {
     "name": "stdout",
     "output_type": "stream",
     "text": [
      "Banana\n"
     ]
    }
   ],
   "source": [
    "input_str_de = \"0n0n0baca\"\n",
    "input1=input_str_de[0:-3]\n",
    "input2=input1[::-1]\n",
    "\n",
    "key = {'0':'a', '1':'e', '2':'i', '3':'o', '4':'u'}\n",
    "\n",
    "output_str_de = \"\"\n",
    "for c in input2 :\n",
    "    if c in key :\n",
    "        output_str_de += key[c]\n",
    "    else :\n",
    "        output_str_de += c\n",
    "\n",
    "fin_output =  str(output_str_de.title()  )    \n",
    "print( fin_output)\n"
   ]
  },
  {
   "cell_type": "code",
   "execution_count": 110,
   "metadata": {},
   "outputs": [],
   "source": [
    "\n",
    "def karaca_decoder(x):\n",
    "    \n",
    "    input1=x[0:-3] # take the user input and  cut the aca part\n",
    "    input2=input1[::-1] # make the string  in the right order\n",
    "\n",
    "    key = {'0':'a', '1':'e', '2':'i', '3':'o', '4':'u'} # make a dict of the vowels to replace all numbers\n",
    "\n",
    "\n",
    "    output_str_de = \"\" # define the output\n",
    "    fin_output = \"\"# dinfe the result_output\n",
    "    for c in input2 : # the loop takes the user input and match it with the key_en dict and replaces the values\n",
    "        if c in key :\n",
    "            output_str_de += key[c] # if the numbers are found we replaces them with values in key dict\n",
    "        else :\n",
    "            output_str_de += c #if not found we keep the values\n",
    "\n",
    "    fin_output =  output_str_de.title() # do some formating to the string :)     \n",
    "    print (fin_output)\n",
    "    \n",
    "\n",
    "    \n",
    "\n",
    "\n",
    "\n"
   ]
  },
  {
   "cell_type": "code",
   "execution_count": 111,
   "metadata": {},
   "outputs": [
    {
     "name": "stdout",
     "output_type": "stream",
     "text": [
      "Banana\n",
      "Karaca\n",
      "Burak\n",
      "Alpaca\n"
     ]
    }
   ],
   "source": [
    "karaca_decoder(\"0n0n0baca\")\n",
    "karaca_decoder(\"0c0r0kaca\")\n",
    "karaca_decoder(\"k0r4baca\")\n",
    "karaca_decoder(\"0c0pl0aca\")"
   ]
  },
  {
   "cell_type": "markdown",
   "metadata": {},
   "source": [
    "# Q7. Coding Problem\n",
    "## Closed Brackets Detector - Extra Problem\n",
    "_if you want a little tease, this is a real interview question_. This problem will require you to put everything you learned so far in this class together.\n",
    "\n",
    "You have noticed that Jupyter can help you detect unclosed parentheses, for instance:\n",
    "```python\n",
    "list(str(type(x for x in range(l))) \n",
    "```\n",
    "will give you an error.\n",
    "\n",
    "In this question, you are going to replicate a simpler example of it.\n",
    "\n",
    "Your task in this exercise is as follows (two functions, one embed in another):\n",
    "\n",
    "1. Create a function that generates a string with N opening brackets (`[`) and N closing brackets (`]`), in some arbitrary order.\n",
    "2. Create a function that determines whether the generated string is balanced; that is, whether it consists entirely of pairs of opening/closing brackets (in that order), none of which mis-nest.\n",
    "\n",
    "Requirements:\n",
    "* Your test sequence of brackets need to be (`2,20`) digits long.\n",
    "* You need to generate at least `8` sequences \n",
    "\n",
    "Expected Output:\n",
    "```\n",
    "   []        OK   ][        NOT OK\n",
    "   [][]      OK   ][][      NOT OK\n",
    "   [[][]]    OK   []][[]    NOT OK\n",
    "```"
   ]
  },
  {
   "cell_type": "code",
   "execution_count": 294,
   "metadata": {},
   "outputs": [],
   "source": [
    "str1 = '[]'\n",
    "str2 = '[][]'\n",
    "str3 = '[[][]]'\n",
    "str4 = ']['\n",
    "str5 = '][]['\n",
    "str6= \"[]][[]\""
   ]
  },
  {
   "cell_type": "code",
   "execution_count": 299,
   "metadata": {
    "collapsed": true
   },
   "outputs": [
    {
     "name": "stdout",
     "output_type": "stream",
     "text": [
      " not OK\n"
     ]
    }
   ],
   "source": [
    "# Write your code here\n",
    "# the code works from  str1 till str5 couldnt find how to get str6 to say not okay\n",
    "str_t= str5\n",
    "\n",
    "str_len = len(str_t)\n",
    "\n",
    "n_b1= \"[\"\n",
    "n_b2 = \"]\"\n",
    "for i in range(int((len(str_t)/2)))[ : : 3]:\n",
    "    if str_len % 2 == 0:\n",
    "        if n_b1 == str_t[i] and n_b2 == str_t[-(i+1):]   :\n",
    "                print(\" OK\")          \n",
    "        else:\n",
    "                print(\" not OK\")\n",
    "            \n",
    "    else:\n",
    "           print (\"Not OKAY\")\n",
    "        \n",
    "\n",
    "\n",
    "\n"
   ]
  },
  {
   "cell_type": "code",
   "execution_count": 435,
   "metadata": {},
   "outputs": [
    {
     "name": "stdout",
     "output_type": "stream",
     "text": [
      " OK\n"
     ]
    }
   ],
   "source": [
    "# Write your code here\n",
    "# the code works from  str1 till str5 couldnt find how to get str6 to say not okay\n",
    "str_t= str1\n",
    "\n",
    "str_len = len(str_t)\n",
    "\n",
    "n_b1= \"[\"\n",
    "n_b2 = \"]\"\n",
    "for i in range(int((len(str_t)/2)))[ : : 3]:\n",
    "    if str_len % 2 == 0:\n",
    "        if str_t[i] == n_b1   and str_t[-(i+1)] == n_b2    :\n",
    "                print(\" OK\")          \n",
    "        else:\n",
    "                print(\" not OK\")\n",
    "            \n",
    "    else:\n",
    "           print (\"Not OKAY\")\n"
   ]
  },
  {
   "cell_type": "code",
   "execution_count": 425,
   "metadata": {},
   "outputs": [],
   "source": [
    "def brackets_finder(x):\n",
    "    str_t= x\n",
    "\n",
    "    str_len = len(str_t)\n",
    "\n",
    "    n_b1= \"[\"\n",
    "    n_b2 = \"]\"\n",
    "    for i in range(int((len(str_t)/2)))[ : : 3]:\n",
    "        if str_len % 2 == 0:\n",
    "            if n_b1 == str_t[i] and n_b2 == str_t[-(i+1):]   :\n",
    "                return(str_t,\" OK\")          \n",
    "            else:\n",
    "                return(str_t,\" not OK\")\n",
    "            \n",
    "        else:\n",
    "            return (\"Not OKAY\")\n",
    "        \n",
    "        \n"
   ]
  },
  {
   "cell_type": "code",
   "execution_count": 426,
   "metadata": {},
   "outputs": [
    {
     "data": {
      "text/plain": [
       "('[]', ' OK')"
      ]
     },
     "execution_count": 426,
     "metadata": {},
     "output_type": "execute_result"
    }
   ],
   "source": [
    "brackets_finder(str1)\n",
    "\n"
   ]
  },
  {
   "cell_type": "code",
   "execution_count": 286,
   "metadata": {},
   "outputs": [
    {
     "data": {
      "text/plain": [
       "('[][]', ' OK')"
      ]
     },
     "execution_count": 286,
     "metadata": {},
     "output_type": "execute_result"
    }
   ],
   "source": [
    "\n",
    "brackets_finder(str2)"
   ]
  },
  {
   "cell_type": "code",
   "execution_count": 287,
   "metadata": {},
   "outputs": [
    {
     "data": {
      "text/plain": [
       "('[[][]]', ' OK')"
      ]
     },
     "execution_count": 287,
     "metadata": {},
     "output_type": "execute_result"
    }
   ],
   "source": [
    "\n",
    "brackets_finder(str3)\n"
   ]
  },
  {
   "cell_type": "code",
   "execution_count": 288,
   "metadata": {},
   "outputs": [
    {
     "data": {
      "text/plain": [
       "('][', ' not OK')"
      ]
     },
     "execution_count": 288,
     "metadata": {},
     "output_type": "execute_result"
    }
   ],
   "source": [
    "brackets_finder(str4)\n"
   ]
  },
  {
   "cell_type": "code",
   "execution_count": 289,
   "metadata": {},
   "outputs": [
    {
     "data": {
      "text/plain": [
       "('][][', ' not OK')"
      ]
     },
     "execution_count": 289,
     "metadata": {},
     "output_type": "execute_result"
    }
   ],
   "source": [
    "brackets_finder(str5)"
   ]
  },
  {
   "cell_type": "code",
   "execution_count": 297,
   "metadata": {},
   "outputs": [
    {
     "data": {
      "text/plain": [
       "('[]][[]', ' OK')"
      ]
     },
     "execution_count": 297,
     "metadata": {},
     "output_type": "execute_result"
    }
   ],
   "source": [
    "brackets_finder(str6)"
   ]
  },
  {
   "cell_type": "code",
   "execution_count": null,
   "metadata": {},
   "outputs": [],
   "source": []
  },
  {
   "cell_type": "code",
   "execution_count": null,
   "metadata": {},
   "outputs": [],
   "source": []
  }
 ],
 "metadata": {
  "kernelspec": {
   "display_name": "Python 3",
   "language": "python",
   "name": "python3"
  },
  "language_info": {
   "codemirror_mode": {
    "name": "ipython",
    "version": 3
   },
   "file_extension": ".py",
   "mimetype": "text/x-python",
   "name": "python",
   "nbconvert_exporter": "python",
   "pygments_lexer": "ipython3",
   "version": "3.6.7"
  }
 },
 "nbformat": 4,
 "nbformat_minor": 2
}
